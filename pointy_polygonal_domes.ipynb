{
 "cells": [
  {
   "cell_type": "markdown",
   "metadata": {},
   "source": [
    "## R_prime =/= R"
   ]
  },
  {
   "cell_type": "code",
   "execution_count": 1,
   "metadata": {},
   "outputs": [
    {
     "ename": "NameError",
     "evalue": "name 'm' is not defined",
     "output_type": "error",
     "traceback": [
      "\u001b[0;31m---------------------------------------------------------------------------\u001b[0m",
      "\u001b[0;31mNameError\u001b[0m                                 Traceback (most recent call last)",
      "Cell \u001b[0;32mIn[1], line 9\u001b[0m\n\u001b[1;32m      6\u001b[0m R_prime \u001b[38;5;241m=\u001b[39m \u001b[38;5;241m50\u001b[39m    \u001b[38;5;66;03m# vertical radius of circumscribed circle\u001b[39;00m\n\u001b[1;32m      8\u001b[0m \u001b[38;5;66;03m# derived quantities\u001b[39;00m\n\u001b[0;32m----> 9\u001b[0m ALPHA \u001b[38;5;241m=\u001b[39m \u001b[38;5;241m2\u001b[39m\u001b[38;5;241m*\u001b[39m\u001b[43mm\u001b[49m\u001b[38;5;241m.\u001b[39mpi\u001b[38;5;241m/\u001b[39mNR_SIDES                 \u001b[38;5;66;03m# base polygonal angle\u001b[39;00m\n\u001b[1;32m     10\u001b[0m R \u001b[38;5;241m=\u001b[39m S\u001b[38;5;241m/\u001b[39m(\u001b[38;5;241m2\u001b[39m\u001b[38;5;241m*\u001b[39mm\u001b[38;5;241m.\u001b[39msin(m\u001b[38;5;241m.\u001b[39mpi\u001b[38;5;241m/\u001b[39mNR_SIDES))          \u001b[38;5;66;03m# base radius of circumscribed circle\u001b[39;00m\n\u001b[1;32m     11\u001b[0m A \u001b[38;5;241m=\u001b[39m S\u001b[38;5;241m/\u001b[39m(\u001b[38;5;241m2\u001b[39m\u001b[38;5;241m*\u001b[39mm\u001b[38;5;241m.\u001b[39mtan(m\u001b[38;5;241m.\u001b[39mpi\u001b[38;5;241m/\u001b[39mNR_SIDES))          \u001b[38;5;66;03m# base polygon apothem\u001b[39;00m\n",
      "\u001b[0;31mNameError\u001b[0m: name 'm' is not defined"
     ]
    }
   ],
   "source": [
    "# user-defined parameters\n",
    "NR_SIDES = 12    # base polygon\n",
    "NR_LAYERS = 4   # no. of steps until top\n",
    "S = 10          # length of polygon sides\n",
    "H = 30          # height of structure\n",
    "R_prime = 50    # vertical radius of circumscribed circle\n",
    "\n",
    "# derived quantities\n",
    "ALPHA = 2*m.pi/NR_SIDES                 # base polygonal angle\n",
    "R = S/(2*m.sin(m.pi/NR_SIDES))          # base radius of circumscribed circle\n",
    "A = S/(2*m.tan(m.pi/NR_SIDES))          # base polygon apothem\n",
    "GAMMA = np.asin(H/R_prime)              # vertical circumscribed circular arc\n",
    "BETA = GAMMA/NR_LAYERS                  # vertical polygonal angle\n",
    "S_prime = 2*R_prime*m.sin(0.5*BETA)     # vertical polygon side length\n",
    "# A_prime = S_prime/(2*m.tan(m.pi/(NR_LAYERS))) # vertical polygon apothem (work in progress)\n",
    "\n",
    "print(f\"{NR_SIDES=}\\n{NR_LAYERS=}\\n{S=}\\n{H=}\\n{R_prime=}\\n{ALPHA=}\\n{R=}\\n{A=}\\n{GAMMA=}\\n{BETA=}\\n{S_prime=}\")"
   ]
  },
  {
   "cell_type": "code",
   "execution_count": null,
   "metadata": {},
   "outputs": [],
   "source": [
    "def idx(i, j):\n",
    "    \"\"\"Index mapping between angles and cartesian points\"\"\"\n",
    "    return i%NR_SIDES + NR_SIDES*j%(NR_SIDES*(NR_LAYERS+1))\n",
    "\n",
    "def create_polys(angle_offset):\n",
    "    # get all angular coordinates in a suitably formatted input array\n",
    "    alphas = np.linspace(angle_offset, 2*np.pi + angle_offset, NR_SIDES, endpoint=False)\n",
    "    betas = np.linspace(0, GAMMA, (NR_LAYERS+1), endpoint=True)\n",
    "    X, Y = np.meshgrid(alphas, betas)\n",
    "    angles = np.array([X.flatten(), Y.flatten()]).T\n",
    "\n",
    "    # calculate actual (cartesian) coordinates of vertices\n",
    "    xyz = np.zeros((angles.shape[0], 3))\n",
    "    xyz[:, 0] = (R - R_prime*(1 - np.cos(angles[:,1])))*np.cos(angles[:,0])\n",
    "    xyz[:, 1] = (R - R_prime*(1 - np.cos(angles[:,1])))*np.sin(angles[:,0])\n",
    "    xyz[:, 2] = R_prime*np.sin(angles[:,1])\n",
    "\n",
    "    # define polygon faces for the 3D plotter to work with\n",
    "    polys = np.zeros((NR_SIDES*NR_LAYERS, 5, 3))\n",
    "\n",
    "    k = 0\n",
    "    for j in range(betas.shape[0]-1): # we have (NR_LAYERS+1) beta angles, but only NR_LAYERS faces in that direction\n",
    "        for i in range(alphas.shape[0]):\n",
    "            polys[k, 0, :] = xyz[idx(i, j), :]\n",
    "            polys[k, 1, :] = xyz[idx(i+1, j), :]\n",
    "            polys[k, 2, :] = xyz[idx(i+1, j+1), :]\n",
    "            polys[k, 3, :] = xyz[idx(i, j+1), :]\n",
    "            polys[k, 4, :] = polys[k, 0, :] # add first vertex again to close the loop\n",
    "            \n",
    "            k += 1\n",
    "    \n",
    "    return polys"
   ]
  },
  {
   "cell_type": "code",
   "execution_count": null,
   "metadata": {},
   "outputs": [],
   "source": [
    "# rotate object by angle\n",
    "angle_offset = 0#.5*m.pi + 0.2*ALPHA\n",
    "\n",
    "polys = create_polys(angle_offset)"
   ]
  },
  {
   "cell_type": "code",
   "execution_count": null,
   "metadata": {},
   "outputs": [],
   "source": [
    "fig, axs = plt.subplots(1,2)\n",
    "\n",
    "# TOP VIEW PROJECTION\n",
    "poly = PolyCollection(polys[:,:,:2], alpha=0.7)\n",
    "poly.set_facecolor('white')\n",
    "poly.set_edgecolor('black')\n",
    "\n",
    "axs[0].add_collection(poly)\n",
    "\n",
    "lim = 1.1*R\n",
    "axs[0].set_xlim(-lim, lim)\n",
    "axs[0].set_ylim(-lim, lim)\n",
    "axs[0].set_aspect('equal')\n",
    "\n",
    "# SIDE VIEW PROJECTION\n",
    "poly = PolyCollection(polys[:,:,0::2], alpha=0.7)\n",
    "poly.set_facecolor('white')\n",
    "poly.set_edgecolor('black')\n",
    "axs[1].add_collection(poly)\n",
    "\n",
    "lim = 1.1*R\n",
    "axs[1].set_xlim(-lim, lim)\n",
    "axs[1].set_ylim(0, 2*H)\n",
    "axs[1].set_aspect('equal')\n",
    "\n",
    "fig.show()"
   ]
  }
 ],
 "metadata": {
  "kernelspec": {
   "display_name": "env",
   "language": "python",
   "name": "python3"
  },
  "language_info": {
   "codemirror_mode": {
    "name": "ipython",
    "version": 3
   },
   "file_extension": ".py",
   "mimetype": "text/x-python",
   "name": "python",
   "nbconvert_exporter": "python",
   "pygments_lexer": "ipython3",
   "version": "3.12.3"
  }
 },
 "nbformat": 4,
 "nbformat_minor": 2
}
